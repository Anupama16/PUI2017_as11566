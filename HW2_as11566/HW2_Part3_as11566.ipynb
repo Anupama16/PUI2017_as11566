{
 "cells": [
  {
   "cell_type": "code",
   "execution_count": 1,
   "metadata": {
    "collapsed": false
   },
   "outputs": [
    {
     "name": "stdout",
     "output_type": "stream",
     "text": [
      "Populating the interactive namespace from numpy and matplotlib\n"
     ]
    }
   ],
   "source": [
    "from __future__ import print_function\n",
    "import numpy as np\n",
    "import pandas as pd\n",
    "import matplotlib.pyplot as plt\n",
    "\n",
    "import sys\n",
    "import os\n",
    "%matplotlib inline\n",
    "%pylab inline"
   ]
  },
  {
   "cell_type": "code",
   "execution_count": 2,
   "metadata": {
    "collapsed": false
   },
   "outputs": [
    {
     "data": {
      "text/plain": [
       "'/gws/open/NYCOpenData/nycopendata/data'"
      ]
     },
     "execution_count": 2,
     "metadata": {},
     "output_type": "execute_result"
    }
   ],
   "source": [
    "#Checking the env variable\n",
    "DFdata = os.getenv(\"DFDATA\")\n",
    "DFdata"
   ]
  },
  {
   "cell_type": "code",
   "execution_count": 25,
   "metadata": {
    "collapsed": false
   },
   "outputs": [
    {
     "data": {
      "text/html": [
       "<div>\n",
       "<table border=\"1\" class=\"dataframe\">\n",
       "  <thead>\n",
       "    <tr style=\"text-align: right;\">\n",
       "      <th></th>\n",
       "      <th>JURISDICTION NAME</th>\n",
       "      <th>COUNT PARTICIPANTS</th>\n",
       "      <th>COUNT FEMALE</th>\n",
       "      <th>PERCENT FEMALE</th>\n",
       "      <th>COUNT MALE</th>\n",
       "      <th>PERCENT MALE</th>\n",
       "      <th>COUNT GENDER UNKNOWN</th>\n",
       "      <th>PERCENT GENDER UNKNOWN</th>\n",
       "      <th>COUNT GENDER TOTAL</th>\n",
       "      <th>PERCENT GENDER TOTAL</th>\n",
       "      <th>...</th>\n",
       "      <th>COUNT CITIZEN STATUS TOTAL</th>\n",
       "      <th>PERCENT CITIZEN STATUS TOTAL</th>\n",
       "      <th>COUNT RECEIVES PUBLIC ASSISTANCE</th>\n",
       "      <th>PERCENT RECEIVES PUBLIC ASSISTANCE</th>\n",
       "      <th>COUNT NRECEIVES PUBLIC ASSISTANCE</th>\n",
       "      <th>PERCENT NRECEIVES PUBLIC ASSISTANCE</th>\n",
       "      <th>COUNT PUBLIC ASSISTANCE UNKNOWN</th>\n",
       "      <th>PERCENT PUBLIC ASSISTANCE UNKNOWN</th>\n",
       "      <th>COUNT PUBLIC ASSISTANCE TOTAL</th>\n",
       "      <th>PERCENT PUBLIC ASSISTANCE TOTAL</th>\n",
       "    </tr>\n",
       "  </thead>\n",
       "  <tbody>\n",
       "    <tr>\n",
       "      <th>0</th>\n",
       "      <td>Bronx Neighborhood Development Area 001</td>\n",
       "      <td>59</td>\n",
       "      <td>31</td>\n",
       "      <td>0.53</td>\n",
       "      <td>28</td>\n",
       "      <td>0.47</td>\n",
       "      <td>0</td>\n",
       "      <td>0</td>\n",
       "      <td>59</td>\n",
       "      <td>100</td>\n",
       "      <td>...</td>\n",
       "      <td>59</td>\n",
       "      <td>100</td>\n",
       "      <td>20</td>\n",
       "      <td>0.34</td>\n",
       "      <td>39</td>\n",
       "      <td>0.66</td>\n",
       "      <td>0</td>\n",
       "      <td>0</td>\n",
       "      <td>59</td>\n",
       "      <td>100</td>\n",
       "    </tr>\n",
       "    <tr>\n",
       "      <th>1</th>\n",
       "      <td>Bronx Neighborhood Development Area 002</td>\n",
       "      <td>7</td>\n",
       "      <td>5</td>\n",
       "      <td>0.71</td>\n",
       "      <td>2</td>\n",
       "      <td>0.29</td>\n",
       "      <td>0</td>\n",
       "      <td>0</td>\n",
       "      <td>7</td>\n",
       "      <td>100</td>\n",
       "      <td>...</td>\n",
       "      <td>7</td>\n",
       "      <td>100</td>\n",
       "      <td>3</td>\n",
       "      <td>0.43</td>\n",
       "      <td>4</td>\n",
       "      <td>0.57</td>\n",
       "      <td>0</td>\n",
       "      <td>0</td>\n",
       "      <td>7</td>\n",
       "      <td>100</td>\n",
       "    </tr>\n",
       "    <tr>\n",
       "      <th>2</th>\n",
       "      <td>Bronx Neighborhood Development Area 003</td>\n",
       "      <td>15</td>\n",
       "      <td>12</td>\n",
       "      <td>0.80</td>\n",
       "      <td>3</td>\n",
       "      <td>0.20</td>\n",
       "      <td>0</td>\n",
       "      <td>0</td>\n",
       "      <td>15</td>\n",
       "      <td>100</td>\n",
       "      <td>...</td>\n",
       "      <td>15</td>\n",
       "      <td>100</td>\n",
       "      <td>6</td>\n",
       "      <td>0.40</td>\n",
       "      <td>9</td>\n",
       "      <td>0.60</td>\n",
       "      <td>0</td>\n",
       "      <td>0</td>\n",
       "      <td>15</td>\n",
       "      <td>100</td>\n",
       "    </tr>\n",
       "    <tr>\n",
       "      <th>3</th>\n",
       "      <td>Bronx Neighborhood Development Area 004</td>\n",
       "      <td>44</td>\n",
       "      <td>27</td>\n",
       "      <td>0.61</td>\n",
       "      <td>17</td>\n",
       "      <td>0.39</td>\n",
       "      <td>0</td>\n",
       "      <td>0</td>\n",
       "      <td>44</td>\n",
       "      <td>100</td>\n",
       "      <td>...</td>\n",
       "      <td>44</td>\n",
       "      <td>100</td>\n",
       "      <td>13</td>\n",
       "      <td>0.30</td>\n",
       "      <td>31</td>\n",
       "      <td>0.70</td>\n",
       "      <td>0</td>\n",
       "      <td>0</td>\n",
       "      <td>44</td>\n",
       "      <td>100</td>\n",
       "    </tr>\n",
       "    <tr>\n",
       "      <th>4</th>\n",
       "      <td>Bronx Neighborhood Development Area 005</td>\n",
       "      <td>25</td>\n",
       "      <td>9</td>\n",
       "      <td>0.36</td>\n",
       "      <td>16</td>\n",
       "      <td>0.64</td>\n",
       "      <td>0</td>\n",
       "      <td>0</td>\n",
       "      <td>25</td>\n",
       "      <td>100</td>\n",
       "      <td>...</td>\n",
       "      <td>25</td>\n",
       "      <td>100</td>\n",
       "      <td>12</td>\n",
       "      <td>0.48</td>\n",
       "      <td>13</td>\n",
       "      <td>0.52</td>\n",
       "      <td>0</td>\n",
       "      <td>0</td>\n",
       "      <td>25</td>\n",
       "      <td>100</td>\n",
       "    </tr>\n",
       "  </tbody>\n",
       "</table>\n",
       "<p>5 rows × 46 columns</p>\n",
       "</div>"
      ],
      "text/plain": [
       "                         JURISDICTION NAME  COUNT PARTICIPANTS  COUNT FEMALE  \\\n",
       "0  Bronx Neighborhood Development Area 001                  59            31   \n",
       "1  Bronx Neighborhood Development Area 002                   7             5   \n",
       "2  Bronx Neighborhood Development Area 003                  15            12   \n",
       "3  Bronx Neighborhood Development Area 004                  44            27   \n",
       "4  Bronx Neighborhood Development Area 005                  25             9   \n",
       "\n",
       "   PERCENT FEMALE  COUNT MALE  PERCENT MALE  COUNT GENDER UNKNOWN  \\\n",
       "0            0.53          28          0.47                     0   \n",
       "1            0.71           2          0.29                     0   \n",
       "2            0.80           3          0.20                     0   \n",
       "3            0.61          17          0.39                     0   \n",
       "4            0.36          16          0.64                     0   \n",
       "\n",
       "   PERCENT GENDER UNKNOWN  COUNT GENDER TOTAL  PERCENT GENDER TOTAL  \\\n",
       "0                       0                  59                   100   \n",
       "1                       0                   7                   100   \n",
       "2                       0                  15                   100   \n",
       "3                       0                  44                   100   \n",
       "4                       0                  25                   100   \n",
       "\n",
       "                ...                 COUNT CITIZEN STATUS TOTAL  \\\n",
       "0               ...                                         59   \n",
       "1               ...                                          7   \n",
       "2               ...                                         15   \n",
       "3               ...                                         44   \n",
       "4               ...                                         25   \n",
       "\n",
       "   PERCENT CITIZEN STATUS TOTAL  COUNT RECEIVES PUBLIC ASSISTANCE  \\\n",
       "0                           100                                20   \n",
       "1                           100                                 3   \n",
       "2                           100                                 6   \n",
       "3                           100                                13   \n",
       "4                           100                                12   \n",
       "\n",
       "   PERCENT RECEIVES PUBLIC ASSISTANCE  COUNT NRECEIVES PUBLIC ASSISTANCE  \\\n",
       "0                                0.34                                 39   \n",
       "1                                0.43                                  4   \n",
       "2                                0.40                                  9   \n",
       "3                                0.30                                 31   \n",
       "4                                0.48                                 13   \n",
       "\n",
       "   PERCENT NRECEIVES PUBLIC ASSISTANCE  COUNT PUBLIC ASSISTANCE UNKNOWN  \\\n",
       "0                                 0.66                                0   \n",
       "1                                 0.57                                0   \n",
       "2                                 0.60                                0   \n",
       "3                                 0.70                                0   \n",
       "4                                 0.52                                0   \n",
       "\n",
       "   PERCENT PUBLIC ASSISTANCE UNKNOWN  COUNT PUBLIC ASSISTANCE TOTAL  \\\n",
       "0                                  0                             59   \n",
       "1                                  0                              7   \n",
       "2                                  0                             15   \n",
       "3                                  0                             44   \n",
       "4                                  0                             25   \n",
       "\n",
       "   PERCENT PUBLIC ASSISTANCE TOTAL  \n",
       "0                              100  \n",
       "1                              100  \n",
       "2                              100  \n",
       "3                              100  \n",
       "4                              100  \n",
       "\n",
       "[5 rows x 46 columns]"
      ]
     },
     "execution_count": 25,
     "metadata": {},
     "output_type": "execute_result"
    }
   ],
   "source": [
    "df = pd.read_csv(DFdata + '/urvc-2kdr/1414245694/urvc-2kdr')\n",
    "df.head()"
   ]
  },
  {
   "cell_type": "code",
   "execution_count": 27,
   "metadata": {
    "collapsed": false
   },
   "outputs": [
    {
     "data": {
      "text/html": [
       "<div>\n",
       "<table border=\"1\" class=\"dataframe\">\n",
       "  <thead>\n",
       "    <tr style=\"text-align: right;\">\n",
       "      <th></th>\n",
       "      <th>COUNT PARTICIPANTS</th>\n",
       "      <th>COUNT FEMALE</th>\n",
       "    </tr>\n",
       "  </thead>\n",
       "  <tbody>\n",
       "    <tr>\n",
       "      <th>0</th>\n",
       "      <td>59</td>\n",
       "      <td>31</td>\n",
       "    </tr>\n",
       "    <tr>\n",
       "      <th>1</th>\n",
       "      <td>7</td>\n",
       "      <td>5</td>\n",
       "    </tr>\n",
       "    <tr>\n",
       "      <th>2</th>\n",
       "      <td>15</td>\n",
       "      <td>12</td>\n",
       "    </tr>\n",
       "    <tr>\n",
       "      <th>3</th>\n",
       "      <td>44</td>\n",
       "      <td>27</td>\n",
       "    </tr>\n",
       "    <tr>\n",
       "      <th>4</th>\n",
       "      <td>25</td>\n",
       "      <td>9</td>\n",
       "    </tr>\n",
       "  </tbody>\n",
       "</table>\n",
       "</div>"
      ],
      "text/plain": [
       "   COUNT PARTICIPANTS  COUNT FEMALE\n",
       "0                  59            31\n",
       "1                   7             5\n",
       "2                  15            12\n",
       "3                  44            27\n",
       "4                  25             9"
      ]
     },
     "execution_count": 27,
     "metadata": {},
     "output_type": "execute_result"
    }
   ],
   "source": [
    "#Too many columns obstructed the use of drop() function\n",
    "df = df[[1,2]]\n",
    "df.head()\n"
   ]
  },
  {
   "cell_type": "code",
   "execution_count": 43,
   "metadata": {
    "collapsed": false
   },
   "outputs": [
    {
     "data": {
      "image/png": "[encoded data removed]",
      "text/plain": [
       "<matplotlib.figure.Figure at 0x7f3022d7f748>"
      ]
     },
     "metadata": {},
     "output_type": "display_data"
    }
   ],
   "source": [
    "df.plot(x='COUNT PARTICIPANTS',y='COUNT FEMALE',kind='scatter')\n",
    "plt.xlabel('Count of Participants')\n",
    "plt.ylabel('Count of Females')\n",
    "plt.title('Participation of Females')\n",
    "plt.show()"
   ]
  },
  {
   "cell_type": "code",
   "execution_count": null,
   "metadata": {
    "collapsed": true
   },
   "outputs": [],
   "source": []
  }
 ],
 "metadata": {
  "kernelspec": {
   "display_name": "PUI2016_Python3",
   "language": "python",
   "name": "pui2016_python3"
  },
  "language_info": {
   "codemirror_mode": {
    "name": "ipython",
    "version": 3
   },
   "file_extension": ".py",
   "mimetype": "text/x-python",
   "name": "python",
   "nbconvert_exporter": "python",
   "pygments_lexer": "ipython3",
   "version": "3.5.2"
  }
 },
 "nbformat": 4,
 "nbformat_minor": 0
}
